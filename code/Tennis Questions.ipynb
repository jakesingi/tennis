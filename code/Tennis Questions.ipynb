{
 "cells": [
  {
   "cell_type": "markdown",
   "metadata": {
    "hideCode": false,
    "hidePrompt": false
   },
   "source": [
    "# Tennis Ruminations + Wimbledon Preview"
   ]
  },
  {
   "cell_type": "markdown",
   "metadata": {
    "hideCode": false,
    "hidePrompt": false
   },
   "source": [
    "Current tennis broadcasts are loaded with statistics, and it's often hard to decipher which are most important. For example, we see graphics like the one here: \n",
    "\n",
    "![graphic](images/tennis_graphic.jpg)\n",
    "\n",
    "We also see mid-match graphics, such as player tiebreak records when the match is headed for a tiebreak. (This one has always been a head-scratcher for me in particular, as I've wondered if tiebreak history is actually a good predictor of future tiebreak performance). \n",
    "\n",
    "Anyway, while the graphics may look nice and give the commentators talking material, it's often difficult to know which figures actually matter. In this article, I answer each of the four questions below that I've always wondered about:\n",
    "\n",
    "1. Is it more important to win points on your 1st or 2nd serve? \n",
    "\n",
    "2. Is it more important to hold or break serve? \n",
    "\n",
    "3. How important is it to win tiebreaks? \n",
    "\n",
    "4. Free points: How valuable are aces? How detrimental are double faults?\n",
    "\n",
    "As a bonus, I examine how the eight male Wimbledon quarterfinalists (Novak Djokovic, Marton Fucsovics, Karen Khachanov, Denis Shapovalov, Felix Auger-Aliassime, Matteo Berrettini, Roger Federer, and Hubert Hurkacz) have shaped up in 2021 in these areas.\n",
    "\n",
    "I use [Tennis Abstract](http://www.tennisabstract.com/) data from 2019-2021. Unfortunately, the data do not include this year's Wimbledon since the tournament has not been completed."
   ]
  },
  {
   "cell_type": "code",
   "execution_count": 23,
   "metadata": {
    "hideCode": false,
    "hidePrompt": false
   },
   "outputs": [],
   "source": [
    "# Imports\n",
    "import pandas as pd\n",
    "import numpy as np\n",
    "import re\n",
    "import seaborn as sns\n",
    "import matplotlib.pyplot as plt"
   ]
  },
  {
   "cell_type": "code",
   "execution_count": 24,
   "metadata": {
    "hideCode": false,
    "hidePrompt": false
   },
   "outputs": [
    {
     "data": {
      "text/html": [
       "<div>\n",
       "<style scoped>\n",
       "    .dataframe tbody tr th:only-of-type {\n",
       "        vertical-align: middle;\n",
       "    }\n",
       "\n",
       "    .dataframe tbody tr th {\n",
       "        vertical-align: top;\n",
       "    }\n",
       "\n",
       "    .dataframe thead th {\n",
       "        text-align: right;\n",
       "    }\n",
       "</style>\n",
       "<table border=\"1\" class=\"dataframe\">\n",
       "  <thead>\n",
       "    <tr style=\"text-align: right;\">\n",
       "      <th></th>\n",
       "      <th>Rk</th>\n",
       "      <th>Player</th>\n",
       "      <th>M</th>\n",
       "      <th>M W%</th>\n",
       "      <th>SPW</th>\n",
       "      <th>SPW-InP</th>\n",
       "      <th>Aces</th>\n",
       "      <th>Ace%</th>\n",
       "      <th>DFs</th>\n",
       "      <th>DF%</th>\n",
       "      <th>...</th>\n",
       "      <th>TBs</th>\n",
       "      <th>TB W%</th>\n",
       "      <th>TB/S</th>\n",
       "      <th>Sets</th>\n",
       "      <th>S W%</th>\n",
       "      <th>Gms</th>\n",
       "      <th>G W%</th>\n",
       "      <th>Time/Mt</th>\n",
       "      <th>Min/Set</th>\n",
       "      <th>Sec/Pt</th>\n",
       "    </tr>\n",
       "  </thead>\n",
       "  <tbody>\n",
       "    <tr>\n",
       "      <td>0</td>\n",
       "      <td>1.0</td>\n",
       "      <td>Novak Djokovic</td>\n",
       "      <td>65.0</td>\n",
       "      <td>0.831</td>\n",
       "      <td>0.695</td>\n",
       "      <td>0.695</td>\n",
       "      <td>373.0</td>\n",
       "      <td>0.077</td>\n",
       "      <td>166.0</td>\n",
       "      <td>0.034</td>\n",
       "      <td>...</td>\n",
       "      <td>19.0</td>\n",
       "      <td>0.737</td>\n",
       "      <td>0.109</td>\n",
       "      <td>174.0</td>\n",
       "      <td>0.793</td>\n",
       "      <td>1626.0</td>\n",
       "      <td>0.601</td>\n",
       "      <td>111</td>\n",
       "      <td>41.6</td>\n",
       "      <td>43.3</td>\n",
       "    </tr>\n",
       "    <tr>\n",
       "      <td>1</td>\n",
       "      <td>2.0</td>\n",
       "      <td>Daniil Medvedev</td>\n",
       "      <td>79.0</td>\n",
       "      <td>0.734</td>\n",
       "      <td>0.671</td>\n",
       "      <td>0.660</td>\n",
       "      <td>690.0</td>\n",
       "      <td>0.117</td>\n",
       "      <td>254.0</td>\n",
       "      <td>0.043</td>\n",
       "      <td>...</td>\n",
       "      <td>33.0</td>\n",
       "      <td>0.697</td>\n",
       "      <td>0.163</td>\n",
       "      <td>202.0</td>\n",
       "      <td>0.703</td>\n",
       "      <td>1934.0</td>\n",
       "      <td>0.560</td>\n",
       "      <td>105</td>\n",
       "      <td>40.9</td>\n",
       "      <td>40.9</td>\n",
       "    </tr>\n",
       "    <tr>\n",
       "      <td>2</td>\n",
       "      <td>3.0</td>\n",
       "      <td>Rafael Nadal</td>\n",
       "      <td>59.0</td>\n",
       "      <td>0.881</td>\n",
       "      <td>0.701</td>\n",
       "      <td>0.702</td>\n",
       "      <td>269.0</td>\n",
       "      <td>0.063</td>\n",
       "      <td>117.0</td>\n",
       "      <td>0.027</td>\n",
       "      <td>...</td>\n",
       "      <td>16.0</td>\n",
       "      <td>0.625</td>\n",
       "      <td>0.101</td>\n",
       "      <td>158.0</td>\n",
       "      <td>0.829</td>\n",
       "      <td>1435.0</td>\n",
       "      <td>0.631</td>\n",
       "      <td>123</td>\n",
       "      <td>45.9</td>\n",
       "      <td>48.8</td>\n",
       "    </tr>\n",
       "    <tr>\n",
       "      <td>3</td>\n",
       "      <td>4.0</td>\n",
       "      <td>Stefanos Tsitsipas</td>\n",
       "      <td>78.0</td>\n",
       "      <td>0.679</td>\n",
       "      <td>0.679</td>\n",
       "      <td>0.668</td>\n",
       "      <td>554.0</td>\n",
       "      <td>0.086</td>\n",
       "      <td>174.0</td>\n",
       "      <td>0.027</td>\n",
       "      <td>...</td>\n",
       "      <td>45.0</td>\n",
       "      <td>0.711</td>\n",
       "      <td>0.220</td>\n",
       "      <td>205.0</td>\n",
       "      <td>0.639</td>\n",
       "      <td>2066.0</td>\n",
       "      <td>0.530</td>\n",
       "      <td>116</td>\n",
       "      <td>44.2</td>\n",
       "      <td>41.8</td>\n",
       "    </tr>\n",
       "    <tr>\n",
       "      <td>4</td>\n",
       "      <td>5.0</td>\n",
       "      <td>Dominic Thiem</td>\n",
       "      <td>64.0</td>\n",
       "      <td>0.734</td>\n",
       "      <td>0.670</td>\n",
       "      <td>0.668</td>\n",
       "      <td>304.0</td>\n",
       "      <td>0.062</td>\n",
       "      <td>136.0</td>\n",
       "      <td>0.028</td>\n",
       "      <td>...</td>\n",
       "      <td>29.0</td>\n",
       "      <td>0.552</td>\n",
       "      <td>0.177</td>\n",
       "      <td>164.0</td>\n",
       "      <td>0.646</td>\n",
       "      <td>1606.0</td>\n",
       "      <td>0.539</td>\n",
       "      <td>113</td>\n",
       "      <td>44.2</td>\n",
       "      <td>43.5</td>\n",
       "    </tr>\n",
       "  </tbody>\n",
       "</table>\n",
       "<p>5 rows × 59 columns</p>\n",
       "</div>"
      ],
      "text/plain": [
       "    Rk               Player     M   M W%    SPW  SPW-InP   Aces   Ace%    DFs  \\\n",
       "0  1.0      Novak Djokovic   65.0  0.831  0.695    0.695  373.0  0.077  166.0   \n",
       "1  2.0     Daniil Medvedev   79.0  0.734  0.671    0.660  690.0  0.117  254.0   \n",
       "2  3.0        Rafael Nadal   59.0  0.881  0.701    0.702  269.0  0.063  117.0   \n",
       "3  4.0  Stefanos Tsitsipas   78.0  0.679  0.679    0.668  554.0  0.086  174.0   \n",
       "4  5.0       Dominic Thiem   64.0  0.734  0.670    0.668  304.0  0.062  136.0   \n",
       "\n",
       "     DF%  ...   TBs  TB W%   TB/S   Sets   S W%     Gms   G W%  Time/Mt  \\\n",
       "0  0.034  ...  19.0  0.737  0.109  174.0  0.793  1626.0  0.601      111   \n",
       "1  0.043  ...  33.0  0.697  0.163  202.0  0.703  1934.0  0.560      105   \n",
       "2  0.027  ...  16.0  0.625  0.101  158.0  0.829  1435.0  0.631      123   \n",
       "3  0.027  ...  45.0  0.711  0.220  205.0  0.639  2066.0  0.530      116   \n",
       "4  0.028  ...  29.0  0.552  0.177  164.0  0.646  1606.0  0.539      113   \n",
       "\n",
       "  Min/Set  Sec/Pt  \n",
       "0    41.6    43.3  \n",
       "1    40.9    40.9  \n",
       "2    45.9    48.8  \n",
       "3    44.2    41.8  \n",
       "4    44.2    43.5  \n",
       "\n",
       "[5 rows x 59 columns]"
      ]
     },
     "execution_count": 24,
     "metadata": {},
     "output_type": "execute_result"
    }
   ],
   "source": [
    "# Scraped 2019-2021 data\n",
    "tennis = pd.read_csv(\"../data/tennis.csv\").iloc[:, 1:]\n",
    "tennis.head()"
   ]
  },
  {
   "cell_type": "markdown",
   "metadata": {
    "hideCode": false,
    "hidePrompt": false
   },
   "source": [
    "These data include 148 player-seasons of serve, return, and break data from [Tennis Abstract](http://www.tennisabstract.com/). The relevant years are 2019-2021, and I defined a player-season as a year in which a player played at least 6 ATP matches. Why 6? Federer only played 6 matches last year, and he is a key part of this analysis. Why 148? Tennis Abstract includes stats for the **current** top 50 players in the world, even if they weren't top 50 in previous years. Since Sebastian Korda (current #50 in the world) and Aslan Karatsev (current #24) played fewer than 6 ATP matches in 2019, those two player-seasons were filtered out."
   ]
  },
  {
   "cell_type": "code",
   "execution_count": 25,
   "metadata": {
    "hideCode": false,
    "hidePrompt": false,
    "scrolled": true
   },
   "outputs": [
    {
     "data": {
      "text/html": [
       "<div>\n",
       "<style scoped>\n",
       "    .dataframe tbody tr th:only-of-type {\n",
       "        vertical-align: middle;\n",
       "    }\n",
       "\n",
       "    .dataframe tbody tr th {\n",
       "        vertical-align: top;\n",
       "    }\n",
       "\n",
       "    .dataframe thead th {\n",
       "        text-align: right;\n",
       "    }\n",
       "</style>\n",
       "<table border=\"1\" class=\"dataframe\">\n",
       "  <thead>\n",
       "    <tr style=\"text-align: right;\">\n",
       "      <th></th>\n",
       "      <th>Rk</th>\n",
       "      <th>Player</th>\n",
       "      <th>M</th>\n",
       "      <th>M W%</th>\n",
       "      <th>SPW</th>\n",
       "      <th>SPW-InP</th>\n",
       "      <th>Aces</th>\n",
       "      <th>Ace%</th>\n",
       "      <th>DFs</th>\n",
       "      <th>DF%</th>\n",
       "      <th>...</th>\n",
       "      <th>TBs</th>\n",
       "      <th>TB W%</th>\n",
       "      <th>TB/S</th>\n",
       "      <th>Sets</th>\n",
       "      <th>S W%</th>\n",
       "      <th>Gms</th>\n",
       "      <th>G W%</th>\n",
       "      <th>Time/Mt</th>\n",
       "      <th>Min/Set</th>\n",
       "      <th>Sec/Pt</th>\n",
       "    </tr>\n",
       "  </thead>\n",
       "  <tbody>\n",
       "    <tr>\n",
       "      <td>0</td>\n",
       "      <td>1.0</td>\n",
       "      <td>Novak Djokovic</td>\n",
       "      <td>30.0</td>\n",
       "      <td>0.900</td>\n",
       "      <td>0.674</td>\n",
       "      <td>0.670</td>\n",
       "      <td>209.0</td>\n",
       "      <td>0.078</td>\n",
       "      <td>85.0</td>\n",
       "      <td>0.032</td>\n",
       "      <td>...</td>\n",
       "      <td>15.0</td>\n",
       "      <td>0.467</td>\n",
       "      <td>0.165</td>\n",
       "      <td>91.0</td>\n",
       "      <td>0.769</td>\n",
       "      <td>857.0</td>\n",
       "      <td>0.611</td>\n",
       "      <td>142</td>\n",
       "      <td>46.8</td>\n",
       "      <td>45.8</td>\n",
       "    </tr>\n",
       "    <tr>\n",
       "      <td>1</td>\n",
       "      <td>8.0</td>\n",
       "      <td>Roger Federer</td>\n",
       "      <td>8.0</td>\n",
       "      <td>0.625</td>\n",
       "      <td>0.674</td>\n",
       "      <td>0.648</td>\n",
       "      <td>67.0</td>\n",
       "      <td>0.085</td>\n",
       "      <td>4.0</td>\n",
       "      <td>0.005</td>\n",
       "      <td>...</td>\n",
       "      <td>6.0</td>\n",
       "      <td>0.833</td>\n",
       "      <td>0.240</td>\n",
       "      <td>25.0</td>\n",
       "      <td>0.640</td>\n",
       "      <td>253.0</td>\n",
       "      <td>0.514</td>\n",
       "      <td>128</td>\n",
       "      <td>41.0</td>\n",
       "      <td>38.6</td>\n",
       "    </tr>\n",
       "    <tr>\n",
       "      <td>2</td>\n",
       "      <td>9.0</td>\n",
       "      <td>Matteo Berrettini</td>\n",
       "      <td>32.0</td>\n",
       "      <td>0.813</td>\n",
       "      <td>0.710</td>\n",
       "      <td>0.680</td>\n",
       "      <td>313.0</td>\n",
       "      <td>0.133</td>\n",
       "      <td>43.0</td>\n",
       "      <td>0.018</td>\n",
       "      <td>...</td>\n",
       "      <td>16.0</td>\n",
       "      <td>0.750</td>\n",
       "      <td>0.200</td>\n",
       "      <td>80.0</td>\n",
       "      <td>0.750</td>\n",
       "      <td>781.0</td>\n",
       "      <td>0.567</td>\n",
       "      <td>109</td>\n",
       "      <td>43.8</td>\n",
       "      <td>42.8</td>\n",
       "    </tr>\n",
       "    <tr>\n",
       "      <td>3</td>\n",
       "      <td>12.0</td>\n",
       "      <td>Denis Shapovalov</td>\n",
       "      <td>31.0</td>\n",
       "      <td>0.581</td>\n",
       "      <td>0.676</td>\n",
       "      <td>0.696</td>\n",
       "      <td>251.0</td>\n",
       "      <td>0.105</td>\n",
       "      <td>176.0</td>\n",
       "      <td>0.073</td>\n",
       "      <td>...</td>\n",
       "      <td>14.0</td>\n",
       "      <td>0.357</td>\n",
       "      <td>0.184</td>\n",
       "      <td>76.0</td>\n",
       "      <td>0.579</td>\n",
       "      <td>770.0</td>\n",
       "      <td>0.539</td>\n",
       "      <td>115</td>\n",
       "      <td>46.7</td>\n",
       "      <td>43.6</td>\n",
       "    </tr>\n",
       "    <tr>\n",
       "      <td>4</td>\n",
       "      <td>18.0</td>\n",
       "      <td>Hubert Hurkacz</td>\n",
       "      <td>26.0</td>\n",
       "      <td>0.577</td>\n",
       "      <td>0.657</td>\n",
       "      <td>0.635</td>\n",
       "      <td>211.0</td>\n",
       "      <td>0.107</td>\n",
       "      <td>52.0</td>\n",
       "      <td>0.026</td>\n",
       "      <td>...</td>\n",
       "      <td>11.0</td>\n",
       "      <td>0.727</td>\n",
       "      <td>0.172</td>\n",
       "      <td>64.0</td>\n",
       "      <td>0.578</td>\n",
       "      <td>634.0</td>\n",
       "      <td>0.508</td>\n",
       "      <td>104</td>\n",
       "      <td>42.4</td>\n",
       "      <td>40.7</td>\n",
       "    </tr>\n",
       "    <tr>\n",
       "      <td>5</td>\n",
       "      <td>19.0</td>\n",
       "      <td>Felix Auger Aliassime</td>\n",
       "      <td>33.0</td>\n",
       "      <td>0.606</td>\n",
       "      <td>0.674</td>\n",
       "      <td>0.670</td>\n",
       "      <td>271.0</td>\n",
       "      <td>0.114</td>\n",
       "      <td>119.0</td>\n",
       "      <td>0.050</td>\n",
       "      <td>...</td>\n",
       "      <td>16.0</td>\n",
       "      <td>0.375</td>\n",
       "      <td>0.200</td>\n",
       "      <td>80.0</td>\n",
       "      <td>0.600</td>\n",
       "      <td>772.0</td>\n",
       "      <td>0.543</td>\n",
       "      <td>109</td>\n",
       "      <td>45.1</td>\n",
       "      <td>45.4</td>\n",
       "    </tr>\n",
       "    <tr>\n",
       "      <td>6</td>\n",
       "      <td>29.0</td>\n",
       "      <td>Karen Khachanov</td>\n",
       "      <td>30.0</td>\n",
       "      <td>0.533</td>\n",
       "      <td>0.646</td>\n",
       "      <td>0.635</td>\n",
       "      <td>190.0</td>\n",
       "      <td>0.073</td>\n",
       "      <td>63.0</td>\n",
       "      <td>0.024</td>\n",
       "      <td>...</td>\n",
       "      <td>20.0</td>\n",
       "      <td>0.550</td>\n",
       "      <td>0.247</td>\n",
       "      <td>81.0</td>\n",
       "      <td>0.568</td>\n",
       "      <td>795.0</td>\n",
       "      <td>0.514</td>\n",
       "      <td>121</td>\n",
       "      <td>44.7</td>\n",
       "      <td>41.6</td>\n",
       "    </tr>\n",
       "    <tr>\n",
       "      <td>7</td>\n",
       "      <td>48.0</td>\n",
       "      <td>Marton Fucsovics</td>\n",
       "      <td>31.0</td>\n",
       "      <td>0.613</td>\n",
       "      <td>0.636</td>\n",
       "      <td>0.651</td>\n",
       "      <td>101.0</td>\n",
       "      <td>0.039</td>\n",
       "      <td>116.0</td>\n",
       "      <td>0.044</td>\n",
       "      <td>...</td>\n",
       "      <td>21.0</td>\n",
       "      <td>0.524</td>\n",
       "      <td>0.256</td>\n",
       "      <td>82.0</td>\n",
       "      <td>0.549</td>\n",
       "      <td>801.0</td>\n",
       "      <td>0.516</td>\n",
       "      <td>126</td>\n",
       "      <td>47.7</td>\n",
       "      <td>44.0</td>\n",
       "    </tr>\n",
       "  </tbody>\n",
       "</table>\n",
       "<p>8 rows × 59 columns</p>\n",
       "</div>"
      ],
      "text/plain": [
       "     Rk                  Player     M   M W%    SPW  SPW-InP   Aces   Ace%  \\\n",
       "0   1.0         Novak Djokovic   30.0  0.900  0.674    0.670  209.0  0.078   \n",
       "1   8.0          Roger Federer    8.0  0.625  0.674    0.648   67.0  0.085   \n",
       "2   9.0      Matteo Berrettini   32.0  0.813  0.710    0.680  313.0  0.133   \n",
       "3  12.0       Denis Shapovalov   31.0  0.581  0.676    0.696  251.0  0.105   \n",
       "4  18.0         Hubert Hurkacz   26.0  0.577  0.657    0.635  211.0  0.107   \n",
       "5  19.0  Felix Auger Aliassime   33.0  0.606  0.674    0.670  271.0  0.114   \n",
       "6  29.0        Karen Khachanov   30.0  0.533  0.646    0.635  190.0  0.073   \n",
       "7  48.0       Marton Fucsovics   31.0  0.613  0.636    0.651  101.0  0.039   \n",
       "\n",
       "     DFs    DF%  ...   TBs  TB W%   TB/S  Sets   S W%    Gms   G W%  Time/Mt  \\\n",
       "0   85.0  0.032  ...  15.0  0.467  0.165  91.0  0.769  857.0  0.611      142   \n",
       "1    4.0  0.005  ...   6.0  0.833  0.240  25.0  0.640  253.0  0.514      128   \n",
       "2   43.0  0.018  ...  16.0  0.750  0.200  80.0  0.750  781.0  0.567      109   \n",
       "3  176.0  0.073  ...  14.0  0.357  0.184  76.0  0.579  770.0  0.539      115   \n",
       "4   52.0  0.026  ...  11.0  0.727  0.172  64.0  0.578  634.0  0.508      104   \n",
       "5  119.0  0.050  ...  16.0  0.375  0.200  80.0  0.600  772.0  0.543      109   \n",
       "6   63.0  0.024  ...  20.0  0.550  0.247  81.0  0.568  795.0  0.514      121   \n",
       "7  116.0  0.044  ...  21.0  0.524  0.256  82.0  0.549  801.0  0.516      126   \n",
       "\n",
       "  Min/Set  Sec/Pt  \n",
       "0    46.8    45.8  \n",
       "1    41.0    38.6  \n",
       "2    43.8    42.8  \n",
       "3    46.7    43.6  \n",
       "4    42.4    40.7  \n",
       "5    45.1    45.4  \n",
       "6    44.7    41.6  \n",
       "7    47.7    44.0  \n",
       "\n",
       "[8 rows x 59 columns]"
      ]
     },
     "execution_count": 25,
     "metadata": {},
     "output_type": "execute_result"
    }
   ],
   "source": [
    "# 2021 data\n",
    "tennis_2021 = tennis.tail(50)\n",
    "\n",
    "# Current Wimbledon Quarterfinalists\n",
    "qfs = [\"Novak Djokovic \", \"Marton Fucsovics \", \"Karen Khachanov \", \"Denis Shapovalov \", \"Felix Auger Aliassime \",\n",
    "      \"Matteo Berrettini \", \"Roger Federer \", \"Hubert Hurkacz \"]\n",
    "\n",
    "# 2021 quarterfinalist data\n",
    "tennis_2021_qfs = tennis_2021[tennis_2021[\"Player\"].isin(qfs)].reset_index(drop=True)\n",
    "tennis_2021_qfs"
   ]
  },
  {
   "cell_type": "markdown",
   "metadata": {
    "hideCode": false,
    "hidePrompt": false
   },
   "source": [
    "These data are the same statistics as above, just filtered by our 2021 Wimbledon quarterfinalists."
   ]
  },
  {
   "cell_type": "code",
   "execution_count": 26,
   "metadata": {
    "hideCode": false,
    "hidePrompt": false
   },
   "outputs": [],
   "source": [
    "# Helper analysis functions\n",
    "from sklearn.linear_model import LinearRegression\n",
    "\n",
    "# Runs simple linear regression and outputs results\n",
    "def regression_runner(x, y):\n",
    "    X = pd.DataFrame(tennis[x])\n",
    "    fit = LinearRegression().fit(X, y)\n",
    "    R_square = \"The R-squared value for \" + str(x) + \" is: \" + str(fit.score(X, y))\n",
    "    Coefficient = \"The coefficient is: \" + str(fit.coef_)\n",
    "    Intercept = \"The intercept is: \" + str(fit.intercept_)\n",
    "    print(R_square)\n",
    "    print(Coefficient)\n",
    "    print(Intercept)\n",
    "    \n",
    "# Take average for stat of interest and make stat+ (# of percentage points better or worse than avg. from top 50)\n",
    "def stat_plus(x, avg):\n",
    "    x_plus = x + \"+\"\n",
    "    tennis_2021_qfs[x_plus] = (tennis_2021_qfs[x] - avg) * 100\n",
    "    return tennis_2021_qfs.loc[:, [\"Rk\", \"Player\", x, x_plus]].sort_values(x, ascending=False).reset_index(drop=True)"
   ]
  },
  {
   "cell_type": "markdown",
   "metadata": {
    "hideCode": false,
    "hidePrompt": false
   },
   "source": [
    "### 1. Is it more important to win 1st serve points or 2nd serve points?\n",
    "\n",
    "To answer this question I will regress match win percentage on each of percent 1st serve points won (1st%) and percent 2nd serve points won EXCLUDING double faults (2%-InP). I exclude double faults since 1) a double fault is an automatic loss of point and would therefore inflate the importance of the second serve, and 2) I examine double faults separately below."
   ]
  },
  {
   "cell_type": "code",
   "execution_count": 27,
   "metadata": {
    "hideCode": false,
    "hidePrompt": false
   },
   "outputs": [
    {
     "name": "stdout",
     "output_type": "stream",
     "text": [
      "The R-squared value for 1st% is: 0.14996692865122707\n",
      "The coefficient is: [1.15122159]\n",
      "The intercept is: -0.24579119515494874\n",
      "The R-squared value for 2%-InP is: 0.28796687648667796\n",
      "The coefficient is: [2.08882619]\n",
      "The intercept is: -0.6038810828043057\n"
     ]
    }
   ],
   "source": [
    "x1 = \"1st%\"\n",
    "x1_avg = .72\n",
    "x2 = \"2%-InP\"\n",
    "x2_avg = .571\n",
    "y = tennis[\"M W%\"]\n",
    "regression_runner(x1, y)\n",
    "regression_runner(x2, y)"
   ]
  },
  {
   "cell_type": "markdown",
   "metadata": {
    "hideCode": false,
    "hidePrompt": false
   },
   "source": [
    "These results indicate that winning 2nd serve points is more beneficial than winning first serve points. In fact, winning 1% more second serve points is worth, on average, about a 2% increase in match win percent. Meanwhile, winning 1% more first serve points is only worth a bit more than 1% more match wins."
   ]
  },
  {
   "cell_type": "code",
   "execution_count": 28,
   "metadata": {
    "hideCode": false,
    "hidePrompt": false
   },
   "outputs": [
    {
     "data": {
      "text/html": [
       "<div>\n",
       "<style scoped>\n",
       "    .dataframe tbody tr th:only-of-type {\n",
       "        vertical-align: middle;\n",
       "    }\n",
       "\n",
       "    .dataframe tbody tr th {\n",
       "        vertical-align: top;\n",
       "    }\n",
       "\n",
       "    .dataframe thead th {\n",
       "        text-align: right;\n",
       "    }\n",
       "</style>\n",
       "<table border=\"1\" class=\"dataframe\">\n",
       "  <thead>\n",
       "    <tr style=\"text-align: right;\">\n",
       "      <th></th>\n",
       "      <th>Rk</th>\n",
       "      <th>Player</th>\n",
       "      <th>2%-InP</th>\n",
       "      <th>2%-InP+</th>\n",
       "    </tr>\n",
       "  </thead>\n",
       "  <tbody>\n",
       "    <tr>\n",
       "      <td>0</td>\n",
       "      <td>12.0</td>\n",
       "      <td>Denis Shapovalov</td>\n",
       "      <td>0.652</td>\n",
       "      <td>8.1</td>\n",
       "    </tr>\n",
       "    <tr>\n",
       "      <td>1</td>\n",
       "      <td>48.0</td>\n",
       "      <td>Marton Fucsovics</td>\n",
       "      <td>0.611</td>\n",
       "      <td>4.0</td>\n",
       "    </tr>\n",
       "    <tr>\n",
       "      <td>2</td>\n",
       "      <td>1.0</td>\n",
       "      <td>Novak Djokovic</td>\n",
       "      <td>0.609</td>\n",
       "      <td>3.8</td>\n",
       "    </tr>\n",
       "    <tr>\n",
       "      <td>3</td>\n",
       "      <td>19.0</td>\n",
       "      <td>Felix Auger Aliassime</td>\n",
       "      <td>0.599</td>\n",
       "      <td>2.8</td>\n",
       "    </tr>\n",
       "    <tr>\n",
       "      <td>4</td>\n",
       "      <td>8.0</td>\n",
       "      <td>Roger Federer</td>\n",
       "      <td>0.576</td>\n",
       "      <td>0.5</td>\n",
       "    </tr>\n",
       "    <tr>\n",
       "      <td>5</td>\n",
       "      <td>18.0</td>\n",
       "      <td>Hubert Hurkacz</td>\n",
       "      <td>0.560</td>\n",
       "      <td>-1.1</td>\n",
       "    </tr>\n",
       "    <tr>\n",
       "      <td>6</td>\n",
       "      <td>9.0</td>\n",
       "      <td>Matteo Berrettini</td>\n",
       "      <td>0.559</td>\n",
       "      <td>-1.2</td>\n",
       "    </tr>\n",
       "    <tr>\n",
       "      <td>7</td>\n",
       "      <td>29.0</td>\n",
       "      <td>Karen Khachanov</td>\n",
       "      <td>0.555</td>\n",
       "      <td>-1.6</td>\n",
       "    </tr>\n",
       "  </tbody>\n",
       "</table>\n",
       "</div>"
      ],
      "text/plain": [
       "     Rk                  Player  2%-InP  2%-InP+\n",
       "0  12.0       Denis Shapovalov    0.652      8.1\n",
       "1  48.0       Marton Fucsovics    0.611      4.0\n",
       "2   1.0         Novak Djokovic    0.609      3.8\n",
       "3  19.0  Felix Auger Aliassime    0.599      2.8\n",
       "4   8.0          Roger Federer    0.576      0.5\n",
       "5  18.0         Hubert Hurkacz    0.560     -1.1\n",
       "6   9.0      Matteo Berrettini    0.559     -1.2\n",
       "7  29.0        Karen Khachanov    0.555     -1.6"
      ]
     },
     "execution_count": 28,
     "metadata": {},
     "output_type": "execute_result"
    }
   ],
   "source": [
    "stat_plus(x2, x2_avg)"
   ]
  },
  {
   "cell_type": "markdown",
   "metadata": {
    "hideCode": false,
    "hidePrompt": false
   },
   "source": [
    "Next we have a table showing percent 2nd serve points won (2%-InP, again excluding double faults), and I've defined `2%-InP+` as the number of percentage points above (or below) average these players are, where the average is taken from the top 50 ranked players in the world. We see that Denis Shapovalov wins 8% more 2nd serve points than average when he gets it in, which happens to be 2nd best on the tour behind only big server Milos Raonic. Marton Fucsovics, Novak Djokovic, and Felix Auger-Aliassime are also notably good on their second serves."
   ]
  },
  {
   "cell_type": "markdown",
   "metadata": {
    "hideCode": false,
    "hidePrompt": false
   },
   "source": [
    "### 2. Is holding or breaking serve more important? \n",
    "\n",
    "I take the same approach as above, where Hld% is hold serve rate and Brk% is break rate."
   ]
  },
  {
   "cell_type": "code",
   "execution_count": 29,
   "metadata": {
    "hideCode": false,
    "hidePrompt": false
   },
   "outputs": [
    {
     "name": "stdout",
     "output_type": "stream",
     "text": [
      "The R-squared value for Hld% is: 0.36648435733107254\n",
      "The coefficient is: [1.32512032]\n",
      "The intercept is: -0.481504864628588\n",
      "The R-squared value for Brk% is: 0.20854784529667847\n",
      "The coefficient is: [1.04236037]\n",
      "The intercept is: 0.3454105351535527\n"
     ]
    }
   ],
   "source": [
    "x1 = \"Hld%\"\n",
    "x1_avg = .808\n",
    "x2 = \"Brk%\"\n",
    "x2_avg = .249\n",
    "regression_runner(x1, y)\n",
    "regression_runner(x2, y)"
   ]
  },
  {
   "cell_type": "markdown",
   "metadata": {
    "hideCode": false,
    "hidePrompt": false
   },
   "source": [
    "These results indicate that it is more important to hold serve than break serve. Winning 1% more of your service games leads to an average win percent increase of 1.3%, while breaking serve 1% more often leads to only a 1% increase in match win percent."
   ]
  },
  {
   "cell_type": "code",
   "execution_count": 30,
   "metadata": {
    "hideCode": false,
    "hidePrompt": false
   },
   "outputs": [
    {
     "data": {
      "text/html": [
       "<div>\n",
       "<style scoped>\n",
       "    .dataframe tbody tr th:only-of-type {\n",
       "        vertical-align: middle;\n",
       "    }\n",
       "\n",
       "    .dataframe tbody tr th {\n",
       "        vertical-align: top;\n",
       "    }\n",
       "\n",
       "    .dataframe thead th {\n",
       "        text-align: right;\n",
       "    }\n",
       "</style>\n",
       "<table border=\"1\" class=\"dataframe\">\n",
       "  <thead>\n",
       "    <tr style=\"text-align: right;\">\n",
       "      <th></th>\n",
       "      <th>Rk</th>\n",
       "      <th>Player</th>\n",
       "      <th>Hld%</th>\n",
       "      <th>Hld%+</th>\n",
       "    </tr>\n",
       "  </thead>\n",
       "  <tbody>\n",
       "    <tr>\n",
       "      <td>0</td>\n",
       "      <td>9.0</td>\n",
       "      <td>Matteo Berrettini</td>\n",
       "      <td>0.903</td>\n",
       "      <td>9.5</td>\n",
       "    </tr>\n",
       "    <tr>\n",
       "      <td>1</td>\n",
       "      <td>12.0</td>\n",
       "      <td>Denis Shapovalov</td>\n",
       "      <td>0.880</td>\n",
       "      <td>7.2</td>\n",
       "    </tr>\n",
       "    <tr>\n",
       "      <td>2</td>\n",
       "      <td>8.0</td>\n",
       "      <td>Roger Federer</td>\n",
       "      <td>0.865</td>\n",
       "      <td>5.7</td>\n",
       "    </tr>\n",
       "    <tr>\n",
       "      <td>3</td>\n",
       "      <td>1.0</td>\n",
       "      <td>Novak Djokovic</td>\n",
       "      <td>0.855</td>\n",
       "      <td>4.7</td>\n",
       "    </tr>\n",
       "    <tr>\n",
       "      <td>4</td>\n",
       "      <td>19.0</td>\n",
       "      <td>Felix Auger Aliassime</td>\n",
       "      <td>0.846</td>\n",
       "      <td>3.8</td>\n",
       "    </tr>\n",
       "    <tr>\n",
       "      <td>5</td>\n",
       "      <td>18.0</td>\n",
       "      <td>Hubert Hurkacz</td>\n",
       "      <td>0.832</td>\n",
       "      <td>2.4</td>\n",
       "    </tr>\n",
       "    <tr>\n",
       "      <td>6</td>\n",
       "      <td>29.0</td>\n",
       "      <td>Karen Khachanov</td>\n",
       "      <td>0.827</td>\n",
       "      <td>1.9</td>\n",
       "    </tr>\n",
       "    <tr>\n",
       "      <td>7</td>\n",
       "      <td>48.0</td>\n",
       "      <td>Marton Fucsovics</td>\n",
       "      <td>0.790</td>\n",
       "      <td>-1.8</td>\n",
       "    </tr>\n",
       "  </tbody>\n",
       "</table>\n",
       "</div>"
      ],
      "text/plain": [
       "     Rk                  Player   Hld%  Hld%+\n",
       "0   9.0      Matteo Berrettini   0.903    9.5\n",
       "1  12.0       Denis Shapovalov   0.880    7.2\n",
       "2   8.0          Roger Federer   0.865    5.7\n",
       "3   1.0         Novak Djokovic   0.855    4.7\n",
       "4  19.0  Felix Auger Aliassime   0.846    3.8\n",
       "5  18.0         Hubert Hurkacz   0.832    2.4\n",
       "6  29.0        Karen Khachanov   0.827    1.9\n",
       "7  48.0       Marton Fucsovics   0.790   -1.8"
      ]
     },
     "execution_count": 30,
     "metadata": {},
     "output_type": "execute_result"
    }
   ],
   "source": [
    "stat_plus(x1, x1_avg)"
   ]
  },
  {
   "cell_type": "markdown",
   "metadata": {
    "hideCode": false,
    "hidePrompt": false
   },
   "source": [
    "In 2021, Matteo Berrettini has been the best at holding serve by a considerable margin. He holds serve 9.5% more than the average top 50 player, and 2.3% more than Denis Shapovalov, the next best among the Wimbledon quarterfinalists. Among the entire ATP top 50, he is 3rd best in hold rate behind only serve bots John Isner and Milos Raonic. Marton Fucsovics is the only quarterfinalist below average at holding serve. "
   ]
  },
  {
   "cell_type": "markdown",
   "metadata": {
    "hideCode": false,
    "hidePrompt": false
   },
   "source": [
    "### 3. How important is it to win tiebreaks? \n",
    "\n",
    "We answer this using tiebreak win rate (TB W%)."
   ]
  },
  {
   "cell_type": "code",
   "execution_count": 31,
   "metadata": {
    "hideCode": false,
    "hidePrompt": false
   },
   "outputs": [
    {
     "name": "stdout",
     "output_type": "stream",
     "text": [
      "The R-squared value for TB W% is: 0.11506170011881889\n",
      "The coefficient is: [0.27522061]\n",
      "The intercept is: 0.4466724089332711\n"
     ]
    }
   ],
   "source": [
    "x = \"TB W%\"\n",
    "x_avg = .534\n",
    "regression_runner(x, y)"
   ]
  },
  {
   "cell_type": "markdown",
   "metadata": {
    "hideCode": false,
    "hidePrompt": false
   },
   "source": [
    "Of all regressions fun so far, we see the lowest R-squared for tiebreak win percent. Further, we see a 1% increase in tiebreak win rate only contributes to a 0.27% average increase in match win rate. \n",
    "\n",
    "#### 3a. Does tiebreak history predict future tiebreak performance?\n",
    "To answer this, we can run some quick correlations."
   ]
  },
  {
   "cell_type": "code",
   "execution_count": 32,
   "metadata": {
    "hideCode": false,
    "hidePrompt": false
   },
   "outputs": [],
   "source": [
    "# Correlation study\n",
    "tennis_19 = tennis.head(48)  # 2019 data\n",
    "tennis_20 = tennis.iloc[48:98, :].drop([71, 97], axis = 0)  # 2020 data (dropped Karatsev and Korda so data line up)"
   ]
  },
  {
   "cell_type": "code",
   "execution_count": 33,
   "metadata": {
    "hideCode": false,
    "hidePrompt": false
   },
   "outputs": [
    {
     "name": "stdout",
     "output_type": "stream",
     "text": [
      "The correlation between 2019 TB W% and 2020 TB W% is: 0.0668851911068551\n"
     ]
    }
   ],
   "source": [
    "print(\"The correlation between 2019 TB W% and 2020 TB W% is: \" + str(tennis_19[\"TB W%\"].corr(tennis_20[\"TB W%\"].reset_index(drop=True))))"
   ]
  },
  {
   "cell_type": "markdown",
   "metadata": {
    "hideCode": false,
    "hidePrompt": false
   },
   "source": [
    "Above we see that the correlation between 2019 tiebreak win rate and 2020 tiebreak win rate is very weak at only 0.07."
   ]
  },
  {
   "cell_type": "code",
   "execution_count": 34,
   "metadata": {
    "hideCode": false,
    "hidePrompt": false
   },
   "outputs": [
    {
     "name": "stdout",
     "output_type": "stream",
     "text": [
      "The correlation between 2019 Hold% and 2020 TB W% is: 0.1704912992782255\n"
     ]
    }
   ],
   "source": [
    "print(\"The correlation between 2019 Hold% and 2020 TB W% is: \" + str(tennis_19[\"Hld%\"].corr(tennis_20[\"TB W%\"].reset_index(drop=True))))"
   ]
  },
  {
   "cell_type": "markdown",
   "metadata": {
    "hideCode": false,
    "hidePrompt": false
   },
   "source": [
    "Here we see that 2019 hold rate has a higher correlation with 2020 tiebreak win rate, with r = 0.17. So, when you see those oh-so-often tiebreak records given on TV broadcasts, now you know to not pay them much attention and to instead examine something like hold rate. :)"
   ]
  },
  {
   "cell_type": "markdown",
   "metadata": {
    "hideCode": false,
    "hidePrompt": false
   },
   "source": [
    "We can also see this visually:"
   ]
  },
  {
   "cell_type": "code",
   "execution_count": 35,
   "metadata": {
    "hideCode": false,
    "hidePrompt": false
   },
   "outputs": [
    {
     "data": {
      "image/png": "[encoded data removed]",
      "text/plain": [
       "<Figure size 936x576 with 2 Axes>"
      ]
     },
     "metadata": {
      "needs_background": "light"
     },
     "output_type": "display_data"
    }
   ],
   "source": [
    "fig, (ax1, ax2) = plt.subplots(ncols = 2, sharey = True, figsize = (13, 8))\n",
    "sns.regplot(x = tennis_19[\"TB W%\"], y = tennis_20[\"TB W%\"], ax = ax1, ci = None)\n",
    "sns.regplot(x = tennis_19[\"Hld%\"], y = tennis_20[\"TB W%\"], ax = ax2, ci = None)\n",
    "\n",
    "ax1.set_ylabel('2020 TB W%')\n",
    "ax2.set_ylabel('2020 TB W%')\n",
    "ax1.set_xlabel('2019 TB W%')\n",
    "ax2.set_xlabel('2019 Hld%')\n",
    "\n",
    "fig.savefig(\"../images/tiebreak_regressions.png\");"
   ]
  },
  {
   "cell_type": "markdown",
   "metadata": {
    "hideCode": false,
    "hidePrompt": false
   },
   "source": [
    "The latter relationship is notably more positive."
   ]
  },
  {
   "cell_type": "code",
   "execution_count": 36,
   "metadata": {
    "hideCode": false,
    "hidePrompt": false
   },
   "outputs": [
    {
     "data": {
      "text/html": [
       "<div>\n",
       "<style scoped>\n",
       "    .dataframe tbody tr th:only-of-type {\n",
       "        vertical-align: middle;\n",
       "    }\n",
       "\n",
       "    .dataframe tbody tr th {\n",
       "        vertical-align: top;\n",
       "    }\n",
       "\n",
       "    .dataframe thead th {\n",
       "        text-align: right;\n",
       "    }\n",
       "</style>\n",
       "<table border=\"1\" class=\"dataframe\">\n",
       "  <thead>\n",
       "    <tr style=\"text-align: right;\">\n",
       "      <th></th>\n",
       "      <th>Rk</th>\n",
       "      <th>Player</th>\n",
       "      <th>TB W%</th>\n",
       "      <th>TB W%+</th>\n",
       "    </tr>\n",
       "  </thead>\n",
       "  <tbody>\n",
       "    <tr>\n",
       "      <td>0</td>\n",
       "      <td>8.0</td>\n",
       "      <td>Roger Federer</td>\n",
       "      <td>0.833</td>\n",
       "      <td>29.9</td>\n",
       "    </tr>\n",
       "    <tr>\n",
       "      <td>1</td>\n",
       "      <td>9.0</td>\n",
       "      <td>Matteo Berrettini</td>\n",
       "      <td>0.750</td>\n",
       "      <td>21.6</td>\n",
       "    </tr>\n",
       "    <tr>\n",
       "      <td>2</td>\n",
       "      <td>18.0</td>\n",
       "      <td>Hubert Hurkacz</td>\n",
       "      <td>0.727</td>\n",
       "      <td>19.3</td>\n",
       "    </tr>\n",
       "    <tr>\n",
       "      <td>3</td>\n",
       "      <td>29.0</td>\n",
       "      <td>Karen Khachanov</td>\n",
       "      <td>0.550</td>\n",
       "      <td>1.6</td>\n",
       "    </tr>\n",
       "    <tr>\n",
       "      <td>4</td>\n",
       "      <td>48.0</td>\n",
       "      <td>Marton Fucsovics</td>\n",
       "      <td>0.524</td>\n",
       "      <td>-1.0</td>\n",
       "    </tr>\n",
       "    <tr>\n",
       "      <td>5</td>\n",
       "      <td>1.0</td>\n",
       "      <td>Novak Djokovic</td>\n",
       "      <td>0.467</td>\n",
       "      <td>-6.7</td>\n",
       "    </tr>\n",
       "    <tr>\n",
       "      <td>6</td>\n",
       "      <td>19.0</td>\n",
       "      <td>Felix Auger Aliassime</td>\n",
       "      <td>0.375</td>\n",
       "      <td>-15.9</td>\n",
       "    </tr>\n",
       "    <tr>\n",
       "      <td>7</td>\n",
       "      <td>12.0</td>\n",
       "      <td>Denis Shapovalov</td>\n",
       "      <td>0.357</td>\n",
       "      <td>-17.7</td>\n",
       "    </tr>\n",
       "  </tbody>\n",
       "</table>\n",
       "</div>"
      ],
      "text/plain": [
       "     Rk                  Player  TB W%  TB W%+\n",
       "0   8.0          Roger Federer   0.833    29.9\n",
       "1   9.0      Matteo Berrettini   0.750    21.6\n",
       "2  18.0         Hubert Hurkacz   0.727    19.3\n",
       "3  29.0        Karen Khachanov   0.550     1.6\n",
       "4  48.0       Marton Fucsovics   0.524    -1.0\n",
       "5   1.0         Novak Djokovic   0.467    -6.7\n",
       "6  19.0  Felix Auger Aliassime   0.375   -15.9\n",
       "7  12.0       Denis Shapovalov   0.357   -17.7"
      ]
     },
     "execution_count": 36,
     "metadata": {},
     "output_type": "execute_result"
    }
   ],
   "source": [
    "stat_plus(x, x_avg)"
   ]
  },
  {
   "cell_type": "markdown",
   "metadata": {
    "hideCode": false,
    "hidePrompt": false
   },
   "source": [
    "Interestingly, although Shapovalov holds serve considerably more than average, he has struggled mightily to win tiebreaks this year. Federer, Berrettini, and Hurkacz are notably better than average."
   ]
  },
  {
   "cell_type": "markdown",
   "metadata": {
    "hideCode": false,
    "hidePrompt": false
   },
   "source": [
    "### 4. Free points: How valuable are aces? How detrimental are double faults?\n",
    "\n",
    "Ace rate is Ace% and double fault rate is DF%."
   ]
  },
  {
   "cell_type": "code",
   "execution_count": 37,
   "metadata": {
    "hideCode": false,
    "hidePrompt": false
   },
   "outputs": [
    {
     "name": "stdout",
     "output_type": "stream",
     "text": [
      "The R-squared value for Ace% is: 0.009169401286127865\n",
      "The coefficient is: [0.24152877]\n",
      "The intercept is: 0.5711241448023084\n",
      "The R-squared value for DF% is: 0.07911118796404037\n",
      "The coefficient is: [-2.24684786]\n",
      "The intercept is: 0.674501827149806\n"
     ]
    }
   ],
   "source": [
    "x1 = \"Ace%\"\n",
    "x1_avg = .076\n",
    "x2 = \"DF%\"\n",
    "x2_avg = .036\n",
    "regression_runner(x1, y)\n",
    "regression_runner(x2, y)"
   ]
  },
  {
   "cell_type": "markdown",
   "metadata": {
    "hideCode": false,
    "hidePrompt": false
   },
   "source": [
    "From these regressions it's evident that the cost of giving a free point far outweighs the benefit of getting a free point. An increase in ace rate of 1% is associated with only a 0.24% increase in match win rate, while a 1% increase in double fault rate contributes to more than 2% fewer wins on average. By dividing the magnitude of the coefficients, we see DF% is almost 4x more important than Ace%. Hence, if one wants to hit more aces, they need to maintain at least a 4:1 ace to double fault ratio to make it worth the gamble.\n",
    "\n",
    "Note that there is selection bias present here with the inclusion of huge servers like John Isner and Reilly Opelka, who naturally hit a ton of aces because of their height but also struggle because of it in other areas of the game. Hence, a more \"normal\" player actually would likely see better results from hitting more aces than this analysis indicates."
   ]
  },
  {
   "cell_type": "code",
   "execution_count": 38,
   "metadata": {
    "hideCode": false,
    "hidePrompt": false
   },
   "outputs": [
    {
     "data": {
      "text/html": [
       "<div>\n",
       "<style scoped>\n",
       "    .dataframe tbody tr th:only-of-type {\n",
       "        vertical-align: middle;\n",
       "    }\n",
       "\n",
       "    .dataframe tbody tr th {\n",
       "        vertical-align: top;\n",
       "    }\n",
       "\n",
       "    .dataframe thead th {\n",
       "        text-align: right;\n",
       "    }\n",
       "</style>\n",
       "<table border=\"1\" class=\"dataframe\">\n",
       "  <thead>\n",
       "    <tr style=\"text-align: right;\">\n",
       "      <th></th>\n",
       "      <th>Rk</th>\n",
       "      <th>Player</th>\n",
       "      <th>DF%</th>\n",
       "      <th>DF%+</th>\n",
       "    </tr>\n",
       "  </thead>\n",
       "  <tbody>\n",
       "    <tr>\n",
       "      <td>0</td>\n",
       "      <td>12.0</td>\n",
       "      <td>Denis Shapovalov</td>\n",
       "      <td>0.073</td>\n",
       "      <td>3.7</td>\n",
       "    </tr>\n",
       "    <tr>\n",
       "      <td>1</td>\n",
       "      <td>19.0</td>\n",
       "      <td>Felix Auger Aliassime</td>\n",
       "      <td>0.050</td>\n",
       "      <td>1.4</td>\n",
       "    </tr>\n",
       "    <tr>\n",
       "      <td>2</td>\n",
       "      <td>48.0</td>\n",
       "      <td>Marton Fucsovics</td>\n",
       "      <td>0.044</td>\n",
       "      <td>0.8</td>\n",
       "    </tr>\n",
       "    <tr>\n",
       "      <td>3</td>\n",
       "      <td>1.0</td>\n",
       "      <td>Novak Djokovic</td>\n",
       "      <td>0.032</td>\n",
       "      <td>-0.4</td>\n",
       "    </tr>\n",
       "    <tr>\n",
       "      <td>4</td>\n",
       "      <td>18.0</td>\n",
       "      <td>Hubert Hurkacz</td>\n",
       "      <td>0.026</td>\n",
       "      <td>-1.0</td>\n",
       "    </tr>\n",
       "    <tr>\n",
       "      <td>5</td>\n",
       "      <td>29.0</td>\n",
       "      <td>Karen Khachanov</td>\n",
       "      <td>0.024</td>\n",
       "      <td>-1.2</td>\n",
       "    </tr>\n",
       "    <tr>\n",
       "      <td>6</td>\n",
       "      <td>9.0</td>\n",
       "      <td>Matteo Berrettini</td>\n",
       "      <td>0.018</td>\n",
       "      <td>-1.8</td>\n",
       "    </tr>\n",
       "    <tr>\n",
       "      <td>7</td>\n",
       "      <td>8.0</td>\n",
       "      <td>Roger Federer</td>\n",
       "      <td>0.005</td>\n",
       "      <td>-3.1</td>\n",
       "    </tr>\n",
       "  </tbody>\n",
       "</table>\n",
       "</div>"
      ],
      "text/plain": [
       "     Rk                  Player    DF%  DF%+\n",
       "0  12.0       Denis Shapovalov   0.073   3.7\n",
       "1  19.0  Felix Auger Aliassime   0.050   1.4\n",
       "2  48.0       Marton Fucsovics   0.044   0.8\n",
       "3   1.0         Novak Djokovic   0.032  -0.4\n",
       "4  18.0         Hubert Hurkacz   0.026  -1.0\n",
       "5  29.0        Karen Khachanov   0.024  -1.2\n",
       "6   9.0      Matteo Berrettini   0.018  -1.8\n",
       "7   8.0          Roger Federer   0.005  -3.1"
      ]
     },
     "execution_count": 38,
     "metadata": {},
     "output_type": "execute_result"
    }
   ],
   "source": [
    "stat_plus(x2, x2_avg)"
   ]
  },
  {
   "cell_type": "markdown",
   "metadata": {
    "hideCode": false,
    "hidePrompt": false
   },
   "source": [
    "Among our quarterfinalists, we find Shapovalov doubles significantly more than the top 50 average, while Federer finds himself on the better extreme of the spectrum. Interestingly, despite Shapovalov's more frequent double faults, remember from earlier that his hold rate has still been quite good. "
   ]
  },
  {
   "cell_type": "code",
   "execution_count": 41,
   "metadata": {
    "hideCode": false,
    "hidePrompt": false
   },
   "outputs": [
    {
     "name": "stdout",
     "output_type": "stream",
     "text": [
      "The R-squared value for is: 0.1022072987938265\n",
      "The coefficient is: [-2.48182332  0.39043974]\n",
      "The intercept is: 0.6502089893838514\n"
     ]
    }
   ],
   "source": [
    "X = pd.DataFrame(tennis.loc[:, [\"DF%\", \"Ace%\"]])\n",
    "fit = LinearRegression().fit(X, y)\n",
    "R_square = \"The R-squared value is: \" + str(fit.score(X, y))\n",
    "Coefficient = \"The coefficients are: \" + str(fit.coef_)\n",
    "Intercept = \"The intercept is: \" + str(fit.intercept_)\n",
    "print(R_square)\n",
    "print(Coefficient)\n",
    "print(Intercept)"
   ]
  },
  {
   "cell_type": "markdown",
   "metadata": {
    "hideCode": false,
    "hidePrompt": false
   },
   "source": [
    "# Conclusion"
   ]
  },
  {
   "cell_type": "markdown",
   "metadata": {
    "hideCode": false,
    "hidePrompt": false
   },
   "source": [
    "In this article, we've learned several interesting lessons: 1) Maximize the efficacy of your 2nd serve, 2) Worry about your own serve more than your opponent's, 3) Past tiebreak performance poorly predicts future tiebreak performance, and 4) Do not double fault.\n",
    "\n",
    "It's also no coincidence that in the 2nd serve, hold, and double fault quarterfinalist analyses, at least five of the eight quarterfinalists are better than the top 50 average. It is only in the tiebreak analysis (the least important stat of this analysis) that we see a 50/50 split between above and below average."
   ]
  },
  {
   "cell_type": "markdown",
   "metadata": {
    "hideCode": false,
    "hidePrompt": false
   },
   "source": [
    "# Further Work"
   ]
  },
  {
   "cell_type": "markdown",
   "metadata": {
    "hideCode": false,
    "hidePrompt": false
   },
   "source": [
    "In the future, it would be interesting to analyze rally data. In particular, I'd be curious to compare the effects of winners and unforced errors on match outcomes. I'd also like to look at rally length and see which players are best in short, medium, and long rallies. Last, it could be very beneficial to examine player serve tendencies based on match situation. For example, knowing where Djokovic likes to hit his first or second serve when facing break point could be tremendously advantageous to the returning player."
   ]
  }
 ],
 "metadata": {
  "hide_code_all_hidden": false,
  "hide_input": false,
  "kernelspec": {
   "display_name": "Python 3",
   "language": "python",
   "name": "python3"
  },
  "language_info": {
   "codemirror_mode": {
    "name": "ipython",
    "version": 3
   },
   "file_extension": ".py",
   "mimetype": "text/x-python",
   "name": "python",
   "nbconvert_exporter": "python",
   "pygments_lexer": "ipython3",
   "version": "3.7.4"
  }
 },
 "nbformat": 4,
 "nbformat_minor": 2
}
